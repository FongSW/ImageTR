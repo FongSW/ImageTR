{
  "nbformat": 4,
  "nbformat_minor": 0,
  "metadata": {
    "colab": {
      "name": "handcraft_based(HOG&Radon)withKNN.ipynb",
      "provenance": [],
      "collapsed_sections": [],
      "toc_visible": true
    },
    "kernelspec": {
      "name": "python3",
      "display_name": "Python 3"
    },
    "language_info": {
      "name": "python"
    }
  },
  "cells": [
    {
      "cell_type": "markdown",
      "metadata": {
        "id": "HyfVYM5o-tvj"
      },
      "source": [
        "# **Radon&HOG**"
      ]
    },
    {
      "cell_type": "markdown",
      "metadata": {
        "id": "mqDeABqsYLpK"
      },
      "source": [
        "### **Import**"
      ]
    },
    {
      "cell_type": "code",
      "metadata": {
        "id": "ik0enSnR-tvk"
      },
      "source": [
        "import cv2\n",
        "import numpy as np\n",
        "import tqdm as t\n",
        "import sklearn.neighbors as sn\n",
        "import skimage.transform as skt\n",
        "import matplotlib.pyplot as plt\n",
        "import pandas as pd"
      ],
      "execution_count": 16,
      "outputs": []
    },
    {
      "cell_type": "markdown",
      "metadata": {
        "id": "8dgMIRgNYdMv"
      },
      "source": [
        "### **Histograms of Oriented Gradients Parameter**"
      ]
    },
    {
      "cell_type": "code",
      "metadata": {
        "id": "ChfvYfVj_AJV"
      },
      "source": [
        "# HOG' s Parameter\n",
        "featureTr = []; labelTr = [];#สร้าง array เก็บ Feature ที่สกัดข้อมูลเเละชื่อ class เเต่ละรูปภาพ\n",
        "winSize = (64,64) #ปรับขนาดของ Window\n",
        "blockSize = (16,16) #ปรับขนาดของบล็อก\n",
        "blockStride = (4,4) #ปรับขนาดของการขยับของบล็อก\n",
        "cellSize = (8,8) #กำหนดขนาด cell\n",
        "nbins = 9#จำนวนบินใน Histogram\n",
        "derivAperture = 1\n",
        "winSigma = 4.0 #ปรับ Window ของ Gaussian smoothing\n",
        "histogramNormType = 0\n",
        "L2HysThreshold = 2.0000000000000001e-01 #ปรับการหดตัวของ L2-Hys\n",
        "gammaCorrection = 0 #ปรับว่าต้องประมวลผลก่อนการแก้ไขแกมมาหรือไม่\n",
        "nlevels = 64 #ปรับการ Quantization\n",
        "winStride = (4,4) #ปรับขนาดของการขยับของ Window\n",
        "padding = (4,4) #ปรับการเติมขอบของภาพ\n",
        "locations = ((10,20),) #จุดของ vector"
      ],
      "execution_count": 17,
      "outputs": []
    },
    {
      "cell_type": "code",
      "metadata": {
        "id": "mcH5Y8JQ_CNR"
      },
      "source": [
        "hog = cv2.HOGDescriptor(winSize,blockSize,blockStride,cellSize,nbins,derivAperture,winSigma,\n",
        "histogramNormType,L2HysThreshold,gammaCorrection,nlevels)#สร้าง Obj. ที่ไว้ทำหน้าที่คำนวน HOG"
      ],
      "execution_count": 18,
      "outputs": []
    },
    {
      "cell_type": "markdown",
      "metadata": {
        "id": "YBG46OVGYo04"
      },
      "source": [
        "### **HOG and Radon Training**"
      ]
    },
    {
      "cell_type": "code",
      "metadata": {
        "colab": {
          "base_uri": "https://localhost:8080/"
        },
        "id": "oiyn7hU7-4YT",
        "outputId": "e56717e2-2c08-4b31-eca9-f883fb840898"
      },
      "source": [
        "# Training Image Loader and Feature Extraction\n",
        "for _classname in t.tqdm(range(1,7)): # loop จำนวน class 1-6\n",
        "  for _id in range(1,21): # loop เเต่ละรูปภาพ 20 รูป\n",
        "    path = '/content/drive/MyDrive/ImgRecPJ2/Tr/' + str(_classname) + '/text (' + str(_id) + ').bmp' #ตัวอย่าง path ที่เก็บ= '/content/drive/MyDrive/Tr/6/text (20).bmp'\n",
        "\n",
        "    img = cv2.imread(path, cv2.IMREAD_GRAYSCALE) #ปรับรูปภาพให้อยู่ใน Gray scale เพื่อให้สามารถทำ Radon ได้\n",
        "    img = np.invert(img) #ปรับสีจากขาวเป็นดำสลับกัน\n",
        "    img = cv2.resize(img, (128,128), interpolation = cv2.INTER_AREA) #ปรับขนาดภาพให้เป็น 128 x 128\n",
        "\n",
        "    # print(img.shape)\n",
        "\n",
        "    #ทำ Opening เพื่อย่อเเละเพิ่มขนาดของวัตถุหรือเส้นขอบให้สกัดรูปภาพ(ตัวอักษรหนา)ได้ดีขึ้น\n",
        "    filt = np.ones((2,2)) # กำหนดขนาด filter ใช้ทำ Opening\n",
        "    #img  = cv2.dilate(img, filt, iterations = 1) #ทำ Dialtion 1 รอบ\n",
        "    img  = cv2.morphologyEx(img, cv2.MORPH_CLOSE, filt) #ทำ closing Operation\n",
        "    \n",
        "    hist = hog.compute(img,winStride,padding,locations) # ทำสกัด Feature ของรูปภาพ\n",
        "\n",
        "\n",
        "    tta = np.linspace(0., 180., max(img.shape), endpoint=False) #สร้างองศาของการหา Radon แบบอัตโนมัติด้วย linspace\n",
        "    sinogram = skt.radon(img, theta=tta) #ได้เป็นผลลัพธ์หลังจากทำการ Sum ของมูลในแต่ละองศาที่อยู่บนโดเมน Radon\n",
        "    reshapesinogram = np.array(sinogram).reshape(-1,1) #แปลงให้เป็น vector และให้ data type เป็น numpy array และแปลงให้เป็น vector แนวนอน\n",
        "    concatlistfeature = np.concatenate((hist, reshapesinogram)) #นำ feature array ของ HOG และ Radon มาต่อกันเป็น feature array เดียวกัน\n",
        "\n",
        "    featureTr.append(concatlistfeature) # เก็บข้อมูล Feature ใน array ชื่อ featureTr\n",
        "    labelTr.append(_classname) # เก็บข้อมูลชื่อ class ใน array ชื่อ labelTr\n",
        "\n",
        "featureTr = np.array(featureTr).reshape(120,-1) #เป็นเเนวข้อมูลให้เป็นเเนวนอนเพื่อให้ข้อมูลจำเเนกภาพของเครื่องมือ KNN\n",
        "print(featureTr.shape)"
      ],
      "execution_count": 19,
      "outputs": [
        {
          "output_type": "stream",
          "text": [
            "\r  0%|          | 0/6 [00:00<?, ?it/s]/usr/local/lib/python3.7/dist-packages/ipykernel_launcher.py:21: UserWarning: Image dtype is not float. By default radon will assume you want to preserve the range of your image (preserve_range=True). In scikit-image 0.18 this behavior will change to preserve_range=False. To avoid this warning, explicitly specify the preserve_range parameter.\n",
            "/usr/local/lib/python3.7/dist-packages/skimage/transform/radon_transform.py:87: VisibleDeprecationWarning: Creating an ndarray from ragged nested sequences (which is a list-or-tuple of lists-or-tuples-or ndarrays with different lengths or shapes) is deprecated. If you meant to do this, you must specify 'dtype=object' when creating the ndarray\n",
            "  coords = np.array(np.ogrid[:image.shape[0], :image.shape[1]])\n",
            "/usr/local/lib/python3.7/dist-packages/skimage/transform/radon_transform.py:91: UserWarning: Radon transform: image must be zero outside the reconstruction circle\n",
            "  warn('Radon transform: image must be zero outside the '\n",
            "100%|██████████| 6/6 [00:07<00:00,  1.17s/it]"
          ],
          "name": "stderr"
        },
        {
          "output_type": "stream",
          "text": [
            "(120, 22468)\n"
          ],
          "name": "stdout"
        },
        {
          "output_type": "stream",
          "text": [
            "\n"
          ],
          "name": "stderr"
        }
      ]
    },
    {
      "cell_type": "markdown",
      "metadata": {
        "id": "Q81zk2F-Y2cy"
      },
      "source": [
        "### **HOG and Radon Test**"
      ]
    },
    {
      "cell_type": "code",
      "metadata": {
        "colab": {
          "base_uri": "https://localhost:8080/",
          "height": 390
        },
        "id": "eKnFsJRX-tvl",
        "outputId": "4c8cdb83-bf75-4f36-99e6-daf61e254073"
      },
      "source": [
        "# Testing Image Loader and Feature Extraction\n",
        "path = '/content/drive/MyDrive/ImgRecPJ2/ไ4.jpg';\n",
        "\n",
        "# path = '/content/drive/MyDrive/ImgRecPJ2/Tr/2/text (20).bmp';\n",
        "\n",
        "img = cv2.imread(path, cv2.IMREAD_GRAYSCALE) #ปรับรูปภาพให้อยู่ใน Gray scale เพื่อให้สามารถทำ Radon ได้\n",
        "img = np.invert(img) #ปรับสีจากขาวเป็นดำสลับกัน\n",
        "img = cv2.resize(img, (128,128), interpolation = cv2.INTER_AREA) #ปรับขนาดภาพให้เป็น 128 x 128\n",
        "\n",
        "# print(img.shape)\n",
        "\n",
        "featureTs = [] #สร้าง array ไว้เก็บ feature ที่ได้จากการสกัดข้อมูลตัวทดสอบ\n",
        "\n",
        "#ทำ Opening เพื่อย่อเเละเพิ่มขนาดของวัตถุหรือเส้นขอบให้สกัดรูปภาพ(ตัวอักษรหนา)ได้ดีขึ้น\n",
        "filt = np.ones((2,2)) # กำหนดขนาด filter ใช้ทำ Opening\n",
        "#img  = cv2.dilate(img, filt, iterations = 1) #ทำ Dialtion 1 รอบ\n",
        "img  = cv2.morphologyEx(img, cv2.MORPH_CLOSE, filt) #ทำ Closing Operation\n",
        "\n",
        "plt.imshow(img)\n",
        "\n",
        "hist = hog.compute(img,winStride,padding,locations) # ทำสกัด Feature ของรูปภาพ\n",
        "\n",
        "tta = np.linspace(0., 180., max(img.shape), endpoint=False) #สร้างองศาของการหา Radon แบบอัตโนมัติด้วย linspace\n",
        "sinogram = skt.radon(img, theta=tta) #ได้เป็นผลลัพธ์หลังจากทำการ Sum ของมูลในแต่ละองศาที่อยู่บนโดเมน Radon\n",
        "reshapesinogram = np.array(sinogram).reshape(-1,1) #แปลงให้เป็น vector และให้ data type เป็น numpy array และแปลงให้เป็น vector แนวนอน\n",
        "concatlistfeature = np.concatenate((hist, reshapesinogram)) #นำ feature array ของ HOG และ Radon มาต่อกันเป็น feature array เดียวกัน\n",
        "\n",
        "# featureTs.append(concatlistfeature)\n",
        "featureTs = np.array(concatlistfeature).reshape(1,-1) #แปลง vector ให้เหมาะกับ KNN\n",
        "\n",
        "labelTs = 6 #กำหนด Class lable ของข้อมูลเทศที่เป็นไปได้เท่ากับ 6 Class\n",
        "\n",
        "# print(featureTs.shape)\n",
        "# print(concatlistfeature.shape)\n",
        "\n",
        "classifier = sn.KNeighborsClassifier(n_neighbors=1) # กำหนดค่าหาเพื่อนบ้านที่ใกล์ที่สุด k ตัว ของ ที่ใช้ classifierข้อมูล\n",
        "classifier.fit(featureTr, labelTr) # เรียนรู้ข้อมูลเเล้วสร้างโมเดลใช้ทำนายค่า\n",
        "out = classifier.predict(featureTs) # ทำนายข้อมูลวางอยู่\n",
        "print('Answer is ' + str(out)); #แสดงคำตอบของการ Classify"
      ],
      "execution_count": 28,
      "outputs": [
        {
          "output_type": "stream",
          "text": [
            "/usr/local/lib/python3.7/dist-packages/ipykernel_launcher.py:24: UserWarning: Image dtype is not float. By default radon will assume you want to preserve the range of your image (preserve_range=True). In scikit-image 0.18 this behavior will change to preserve_range=False. To avoid this warning, explicitly specify the preserve_range parameter.\n",
            "/usr/local/lib/python3.7/dist-packages/skimage/transform/radon_transform.py:87: VisibleDeprecationWarning: Creating an ndarray from ragged nested sequences (which is a list-or-tuple of lists-or-tuples-or ndarrays with different lengths or shapes) is deprecated. If you meant to do this, you must specify 'dtype=object' when creating the ndarray\n",
            "  coords = np.array(np.ogrid[:image.shape[0], :image.shape[1]])\n",
            "/usr/local/lib/python3.7/dist-packages/skimage/transform/radon_transform.py:91: UserWarning: Radon transform: image must be zero outside the reconstruction circle\n",
            "  warn('Radon transform: image must be zero outside the '\n"
          ],
          "name": "stderr"
        },
        {
          "output_type": "stream",
          "text": [
            "Answer is [4]\n"
          ],
          "name": "stdout"
        },
        {
          "output_type": "display_data",
          "data": {
            "image/png": "[encoded data removed]",
            "text/plain": [
              "<Figure size 432x288 with 1 Axes>"
            ]
          },
          "metadata": {
            "tags": [],
            "needs_background": "light"
          }
        }
      ]
    },
    {
      "cell_type": "markdown",
      "metadata": {
        "id": "MQorHtt-Y78S"
      },
      "source": [
        "### **Accuracy**"
      ]
    },
    {
      "cell_type": "code",
      "metadata": {
        "colab": {
          "base_uri": "https://localhost:8080/"
        },
        "id": "rsj554qvJaUk",
        "outputId": "53738763-5cfe-499a-dd3d-2d34813e3b43"
      },
      "source": [
        "from sklearn.model_selection import train_test_split # import  sklearn.model_selection เพื่อเเบ่งข้อมูล\n",
        "x_train, x_test, y_train, y_test = train_test_split(featureTr,labelTr,test_size=0.30,random_state=42) \n",
        "#หลังจาก การสกัด Feature ของรูปภาพ ทำการเเบ่งข้อมูล test  30% , train 70 %\n",
        "# Importing and fitting KNN classifier for k=7\n",
        "from sklearn.neighbors import KNeighborsClassifier # Import KNN classifier\n",
        "knn = KNeighborsClassifier(n_neighbors=1) # กำหนดค่าหาเพื่อนบ้านที่ใกล์ที่สุด  7 ตัว หรือ k = 7\n",
        "knn.fit(x_train,y_train) # เรียนรู้ข้อมูลเเล้วสร้างโมเดลใช้ทำนายค่า\n",
        "# Predicting results using Test data set\n",
        "pred = knn.predict(x_test) # ทำนายกลุ่มข้อมูล\n",
        "from sklearn.metrics import accuracy_score # import sklearn.metrics เพื่อใช้ทำนายความเเม่นยำของโมเดล\n",
        "accuracy_score(pred,y_test) #ทดสอบเเล้วเเสดง ผลการทดสอบความเเม่นยำของโมเดล"
      ],
      "execution_count": 21,
      "outputs": [
        {
          "output_type": "execute_result",
          "data": {
            "text/plain": [
              "1.0"
            ]
          },
          "metadata": {
            "tags": []
          },
          "execution_count": 21
        }
      ]
    },
    {
      "cell_type": "code",
      "metadata": {
        "colab": {
          "base_uri": "https://localhost:8080/"
        },
        "id": "H6m102pQVZxx",
        "outputId": "3c9e4aac-a8c1-4e86-eee7-2df85564d1ae"
      },
      "source": [
        "# ทดสอบค่า k ที่ใช้ ทำ classifier(K-Nearest Neighbors) ข้อมูล\n",
        "knn_r_acc = [] # สร้าง array เก็บผลการทดลองค่าความเเม่นยำของ การเลือกใช้ จำนวน k 1-17 ตัว\n",
        "for i in range(1,20,1): # loop ทดลองค่าความเเม่นยำของ การเลือกใช้ จำนวน k 1-17 ตัว\n",
        "    knn = sn.KNeighborsRegressor(n_neighbors=i) # กำหนด k ที่ใช้ทดเเต่ละครั้ง\n",
        "    knn.fit(x_train,y_train) # เรียนรู้ข้อมูลเเล้วสร้างโมเดลเเต่ละรอบ\n",
        "    test_score = knn.score(x_test,y_test) # ทำนายเเละเก็บค่า score ของ test เเต่ละรอบ\n",
        "    train_score = knn.score(x_train, y_train) #ทำนายเเละเก็บค่า score ของ train เเต่ละรอบ\n",
        "    knn_r_acc.append((i, test_score ,train_score)) # เก็บ ข้อมูล ผลการทดลอง score  ใน array ชื่อ knn_r_acc\n",
        "df = pd.DataFrame(knn_r_acc, columns=['K','Test Score','Train Score']) \n",
        "# นำข้อมูลที่เก็บผลการทดลอง ทำเป็น dataframe\n",
        "print(df) # เเสดงผลการทดสอบ"
      ],
      "execution_count": 22,
      "outputs": [
        {
          "output_type": "stream",
          "text": [
            "     K  Test Score  Train Score\n",
            "0    1    1.000000     1.000000\n",
            "1    2    0.977569     0.940692\n",
            "2    3    0.936860     0.909754\n",
            "3    4    0.879742     0.899981\n",
            "4    5    0.863218     0.874871\n",
            "5    6    0.829964     0.855249\n",
            "6    7    0.820955     0.826856\n",
            "7    8    0.783941     0.810202\n",
            "8    9    0.714453     0.762918\n",
            "9   10    0.691144     0.763533\n",
            "10  11    0.686001     0.761772\n",
            "11  12    0.657297     0.742218\n",
            "12  13    0.678320     0.733837\n",
            "13  14    0.660985     0.712097\n",
            "14  15    0.658067     0.687141\n",
            "15  16    0.648223     0.666676\n",
            "16  17    0.635025     0.655694\n",
            "17  18    0.594449     0.643297\n",
            "18  19    0.569183     0.614264\n"
          ],
          "name": "stdout"
        }
      ]
    }
  ]
}