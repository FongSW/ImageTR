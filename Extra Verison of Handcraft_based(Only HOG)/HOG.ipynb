{
  "nbformat": 4,
  "nbformat_minor": 0,
  "metadata": {
    "colab": {
      "name": "HOG.ipynb",
      "provenance": [],
      "collapsed_sections": [
        "lOAkez2dcC8-",
        "MREmM4UjSQC2",
        "Z18aRbpjVSoa",
        "d6gN1-o9VZi3",
        "Fw3DdVBRVjma",
        "wPSYJ-3JV5Dt",
        "K_U4at2jV7cs"
      ],
      "toc_visible": true
    },
    "kernelspec": {
      "name": "python3",
      "display_name": "Python 3"
    },
    "language_info": {
      "name": "python"
    }
  },
  "cells": [
    {
      "cell_type": "markdown",
      "metadata": {
        "id": "lOAkez2dcC8-"
      },
      "source": [
        "# **Histograms of Oriented Gradients**"
      ]
    },
    {
      "cell_type": "markdown",
      "metadata": {
        "id": "MREmM4UjSQC2"
      },
      "source": [
        "### **Import**"
      ]
    },
    {
      "cell_type": "code",
      "metadata": {
        "id": "AJuhlxFpST_s"
      },
      "source": [
        "import cv2\n",
        "import numpy as np\n",
        "import tqdm as t\n",
        "import sklearn.neighbors as sn\n",
        "import pandas as pd"
      ],
      "execution_count": 26,
      "outputs": []
    },
    {
      "cell_type": "markdown",
      "metadata": {
        "id": "Z18aRbpjVSoa"
      },
      "source": [
        "### **Histograms of Oriented Gradients Parameter**"
      ]
    },
    {
      "cell_type": "code",
      "metadata": {
        "id": "yILf6JiTTjBl"
      },
      "source": [
        "featureTr = [];# สร้าง array ไว้เก็บ Feature เเต่ละรูปภาพ\n",
        "labelTr = [];# สร้าง array ไว้เก็บ Feature เเต่ละรูปภาพ"
      ],
      "execution_count": 27,
      "outputs": []
    },
    {
      "cell_type": "code",
      "metadata": {
        "id": "OcHzjdUmTgjV"
      },
      "source": [
        "# HOG' s Parameter\n",
        "winSize = (64,64) #ปรับขนาดของ Window\n",
        "blockSize = (16,16) #ปรับขนาดของบล็อก\n",
        "blockStride = (4,4) #ปรับขนาดของการขยับของบล็อก\n",
        "cellSize = (8,8) #กำหนดขนาด cell\n",
        "nbins = 9#จำนวนบินใน Histogram\n",
        "derivAperture = 1\n",
        "winSigma = 4.0 #ปรับ Window ของ Gaussian smoothing\n",
        "histogramNormType = 0\n",
        "L2HysThreshold = 2.0000000000000001e-01 #ปรับการหดตัวของ L2-Hys\n",
        "gammaCorrection = 0 #ปรับว่าต้องประมวลผลก่อนการแก้ไขแกมมาหรือไม่\n",
        "nlevels = 64 #ปรับการ Quantization\n",
        "winStride = (4,4) #ปรับขนาดของการขยับของ Window\n",
        "padding = (4,4) #ปรับการเติมขอบของภาพ\n",
        "locations = ((10,20),) #จุดของ vector"
      ],
      "execution_count": 28,
      "outputs": []
    },
    {
      "cell_type": "code",
      "metadata": {
        "id": "SqTD_zImTnOd"
      },
      "source": [
        "hog = cv2.HOGDescriptor(winSize,blockSize,blockStride,cellSize,nbins,derivAperture,winSigma, # นำค่า parameter ที่เก็บค่าใน  HOG (ตัวสกัดคุณลักษณะ)\n",
        "histogramNormType,L2HysThreshold,gammaCorrection,nlevels)\n"
      ],
      "execution_count": 29,
      "outputs": []
    },
    {
      "cell_type": "markdown",
      "metadata": {
        "id": "d6gN1-o9VZi3"
      },
      "source": [
        "### **HOG Training**"
      ]
    },
    {
      "cell_type": "code",
      "metadata": {
        "id": "rBy7Zs2jTnvd",
        "colab": {
          "base_uri": "https://localhost:8080/"
        },
        "outputId": "2f120a1f-9fb0-453e-ec73-7ac84e878b34"
      },
      "source": [
        "# Training Image Loader and Feature Extraction\n",
        "for _classname in t.tqdm(range(1,7)): # loop จำนวน class 1-6\n",
        "  for _id in range(1,21): # loop เเต่ละรูปภาพ 20 รูป\n",
        "    path = '/content/drive/MyDrive/ImgRecPJ2/Tr/' + str(_classname) + '/text (' + str(_id) + ').bmp' #ตัวอย่าง path ที่เก็บ= '/content/drive/MyDrive/Tr/6/text (20).bmp'\n",
        "\n",
        "    img = cv2.imread(path, cv2.IMREAD_GRAYSCALE) #ปรับรูปภาพให้อยู่ใน Gray scale เพื่อให้สามารถทำ Radon ได้\n",
        "    img = np.invert(img) #ปรับสีจากขาวเป็นดำสลับกัน\n",
        "    img = cv2.resize(img, (128,128), interpolation = cv2.INTER_AREA) #ปรับขนาดภาพให้เป็น 128 x 128\n",
        "\n",
        "    # print(img.shape)\n",
        "\n",
        "    #ทำ Opening เพื่อย่อเเละเพิ่มขนาดของวัตถุหรือเส้นขอบให้สกัดรูปภาพ(ตัวอักษรหนา)ได้ดีขึ้น\n",
        "    filt = np.ones((2,2)) # กำหนดขนาด filter ใช้ทำ Opening\n",
        "    #img  = cv2.dilate(img, filt, iterations = 1) #ทำ Dialtion 1 รอบ\n",
        "    img  = cv2.morphologyEx(img, cv2.MORPH_CLOSE, filt) #ทำ Closing Operation\n",
        "    \n",
        "    hist = hog.compute(img,winStride,padding,locations) # ทำสกัด Feature ของรูปภาพ\n",
        "\n",
        "    # print(hist)\n",
        "    # print(np.array(hist).shape) # เเสดงลักษณะข้อมูลหลังกัดรูปภาพ\n",
        "    featureTr.append(np.array(hist)) # เก็บข้อมูล Feature ใน array ชื่อ featureTr\n",
        "    labelTr.append(_classname) # เก็บข้อมูลชื่อ class ใน array ชื่อ labelTr\n",
        "\n",
        "featureTr = np.array(featureTr).reshape(120,-1) #เป็นเเนวข้อมูลให้เป็นเเนวนอนเพื่อให้ข้อมูลจำเเนกภาพของเครื่องมือ KNN"
      ],
      "execution_count": 30,
      "outputs": [
        {
          "output_type": "stream",
          "text": [
            "100%|██████████| 6/6 [00:00<00:00, 13.98it/s]\n"
          ],
          "name": "stderr"
        }
      ]
    },
    {
      "cell_type": "markdown",
      "metadata": {
        "id": "Fw3DdVBRVjma"
      },
      "source": [
        "### **HOG Testing**"
      ]
    },
    {
      "cell_type": "code",
      "metadata": {
        "colab": {
          "base_uri": "https://localhost:8080/"
        },
        "id": "yb3CfYjEZRuQ",
        "outputId": "4a12717f-ceef-46ee-ee21-490bb552cc1e"
      },
      "source": [
        "# Testing Image Loader and Feature Extraction\n",
        "# path = '/content/drive/MyDrive/ImgRecPJ2/Tr/6/text (20).bmp'; # ที่วาง path  ไฟล์ที่จะวางทดสอบ\n",
        "path = '/content/drive/MyDrive/ImgRecPJ2/ซ3.png'; # ที่วาง path  ไฟล์ที่จะวางทดสอบ\n",
        "img = cv2.imread(path, cv2.IMREAD_GRAYSCALE) #ปรับรูปภาพให้อยู่ใน Gray scale เพื่อให้สามารถทำ Radon ได้\n",
        "img = np.invert(img) #ปรับสีจากขาวเป็นดำสลับกัน\n",
        "img = cv2.resize(img, (128,128), interpolation = cv2.INTER_AREA) #ปรับขนาดภาพให้เป็น 128 x 128\n",
        "\n",
        "# print(img.shape)\n",
        "\n",
        "#ทำ Opening เพื่อย่อเเละเพิ่มขนาดของวัตถุหรือเส้นขอบให้สกัดรูปภาพ(ตัวอักษรหนา)ได้ดีขึ้น\n",
        "filt = np.ones((2,2)) # กำหนดขนาด filter ใช้ทำ Opening\n",
        "#img  = cv2.dilate(img, filt, iterations = 1) #ทำ Dialtion 1 รอบ\n",
        "img  = cv2.morphologyEx(img, cv2.MORPH_CLOSE, filt) #ทำ Closing Operation\n",
        "    \n",
        "hist = hog.compute(img,winStride,padding,locations) # ทำสกัด Feature ของรูปภาพ\n",
        "\n",
        "labelTs = 6 #กำหนด จำนวน class ที่เอาไป train\n",
        "classifier = sn.KNeighborsClassifier(n_neighbors=1) # กำหนดค่าหาเพื่อนบ้านที่ใกล์ที่สุด k ตัว ของ ที่ใช้ classifierข้อมูล\n",
        "classifier.fit(featureTr, labelTr) # เรียนรู้ข้อมูลเเล้วสร้างโมเดลใช้ทำนายค่า\n",
        "out = classifier.predict(featureTs) # ทำนายข้อมูลวางอยู่\n",
        "print('Answer is ' + str(out)) #แสดงคำตอบของการ Classify"
      ],
      "execution_count": 37,
      "outputs": [
        {
          "output_type": "stream",
          "text": [
            "Answer is [6]\n"
          ],
          "name": "stdout"
        }
      ]
    },
    {
      "cell_type": "markdown",
      "metadata": {
        "id": "wPSYJ-3JV5Dt"
      },
      "source": [
        "### **Accuracy & Scores**"
      ]
    },
    {
      "cell_type": "code",
      "metadata": {
        "colab": {
          "base_uri": "https://localhost:8080/"
        },
        "id": "kJtbbJWG39A1",
        "outputId": "5b6a2833-2052-45ae-ef59-d4a4e117411e"
      },
      "source": [
        "from sklearn.model_selection import train_test_split # import  sklearn.model_selection เพื่อเเบ่งข้อมูล\n",
        "x_train, x_test, y_train, y_test = train_test_split(featureTr,labelTr,test_size=0.30,random_state=42) \n",
        "#หลังจาก การสกัด Feature ของรูปภาพ ทำการเเบ่งข้อมูล test  30% , train 70 %\n",
        "# Importing and fitting KNN classifier for k=7\n",
        "from sklearn.neighbors import KNeighborsClassifier # Import KNN classifier\n",
        "knn = KNeighborsClassifier(n_neighbors=1) # กำหนดค่าหาเพื่อนบ้านที่ใกล์ที่สุด  7 ตัว หรือ k = 7\n",
        "knn.fit(x_train,y_train) # เรียนรู้ข้อมูลเเล้วสร้างโมเดลใช้ทำนายค่า\n",
        "# Predicting results using Test data set\n",
        "pred = knn.predict(x_test) # ทำนายกลุ่มข้อมูล\n",
        "from sklearn.metrics import accuracy_score # import sklearn.metrics เพื่อใช้ทำนายความเเม่นยำของโมเดล\n",
        "accuracy_score(pred,y_test) #ทดสอบเเล้วเเสดง ผลการทดสอบความเเม่นยำของโมเดล"
      ],
      "execution_count": 32,
      "outputs": [
        {
          "output_type": "execute_result",
          "data": {
            "text/plain": [
              "0.8333333333333334"
            ]
          },
          "metadata": {
            "tags": []
          },
          "execution_count": 32
        }
      ]
    },
    {
      "cell_type": "code",
      "metadata": {
        "colab": {
          "base_uri": "https://localhost:8080/"
        },
        "id": "Jxrh54qMrxfz",
        "outputId": "b8903d06-a69b-4d78-e745-6b0b5d6a1ad5"
      },
      "source": [
        "# ทดสอบค่า k ที่ใช้ ทำ classifier(K-Nearest Neighbors) ข้อมูล\n",
        "knn_r_acc = [] # สร้าง array เก็บผลการทดลองค่าความเเม่นยำของ การเลือกใช้ จำนวน k 1-17 ตัว\n",
        "for i in range(1,20,1): # loop ทดลองค่าความเเม่นยำของ การเลือกใช้ จำนวน k 1-17 ตัว\n",
        "    knn = sn.KNeighborsRegressor(n_neighbors=i) # กำหนด k ที่ใช้ทดเเต่ละครั้ง\n",
        "    knn.fit(x_train,y_train) # เรียนรู้ข้อมูลเเล้วสร้างโมเดลเเต่ละรอบ\n",
        "    test_score = knn.score(x_test,y_test) # ทำนายเเละเก็บค่า score ของ test เเต่ละรอบ\n",
        "    train_score = knn.score(x_train, y_train) #ทำนายเเละเก็บค่า score ของ train เเต่ละรอบ\n",
        "    knn_r_acc.append((i, test_score ,train_score)) # เก็บ ข้อมูล ผลการทดลอง score  ใน array ชื่อ knn_r_acc\n",
        "df = pd.DataFrame(knn_r_acc, columns=['K','Test Score','Train Score']) \n",
        "# นำข้อมูลที่เก็บผลการทดลอง ทำเป็น dataframe\n",
        "print(df) # เเสดงผลการทดสอบ"
      ],
      "execution_count": 33,
      "outputs": [
        {
          "output_type": "stream",
          "text": [
            "     K  Test Score  Train Score\n",
            "0    1    0.621158     1.000000\n",
            "1    2    0.765716     0.863290\n",
            "2    3    0.774024     0.846313\n",
            "3    4    0.755746     0.806747\n",
            "4    5    0.747173     0.807481\n",
            "5    6    0.718637     0.739425\n",
            "6    7    0.649845     0.700240\n",
            "7    8    0.648574     0.682351\n",
            "8    9    0.647743     0.637824\n",
            "9   10    0.647876     0.603381\n",
            "10  11    0.589683     0.567540\n",
            "11  12    0.573041     0.543296\n",
            "12  13    0.543230     0.509763\n",
            "13  14    0.508797     0.462434\n",
            "14  15    0.503428     0.427410\n",
            "15  16    0.501056     0.414351\n",
            "16  17    0.478790     0.397927\n",
            "17  18    0.456937     0.378453\n",
            "18  19    0.446125     0.343785\n"
          ],
          "name": "stdout"
        }
      ]
    },
    {
      "cell_type": "markdown",
      "metadata": {
        "id": "UuBpic7Vfa_E"
      },
      "source": [
        "\n",
        "The score function is simply a utility function for a default metric to be used within some algorithms of scikit-learn (mostly the algorithms in the model selection module, e.g. GridSearchCV, or cross_validate), if no other metric is specified. So for classification, this is typically accuracy and for regression mean squared error.\n",
        "\n",
        "So it is the same, as it does exactly what you do in your code: it takes the passed matrix X (e.g. X_test in your case), calls predict and calls accuracy_score. Hence, no surprise that it is the same score. In fact, as scikit-learn is open source, you can just check that yourself here."
      ]
    },
    {
      "cell_type": "markdown",
      "metadata": {
        "id": "K_U4at2jV7cs"
      },
      "source": [
        "### **Play ground**"
      ]
    },
    {
      "cell_type": "code",
      "metadata": {
        "id": "Ti0VJdljWujt"
      },
      "source": [
        "#  path = '/content/drive/MyDrive/Tr/' + str(_classname) + '/text (' + str(_id) + ').bmp';\n",
        "#  img = cv2.imread(path)\n",
        "#  path"
      ],
      "execution_count": 34,
      "outputs": []
    },
    {
      "cell_type": "code",
      "metadata": {
        "id": "luhS17XMVscP"
      },
      "source": [
        "# import cv2\n",
        "# import matplotlib.pyplot as plt\n",
        "# import numpy as np\n",
        "# path = '/content/drive/MyDrive/Tr/6/text (15).bmp';\n",
        "# img = cv2.imread(path)\n",
        "# filt = np.ones((2,2))\n",
        "# #img  = cv2.dilate(img, filt, iterations = 1)\n",
        "# #img  = cv2.erode(img, filt, iterations = 1)\n",
        "# #img = cv2.morphologyEx(img, cv2.MORPH_CLOSE, filt)\n",
        "# img = cv2.morphologyEx(img, cv2.MORPH_OPEN, filt)\n",
        "# img = cv2.resize(img, (128,128), interpolation = cv2.INTER_AREA)\n",
        "# plt.figure()\n",
        "# plt.subplot(3,1,1), plt.imshow(img)\n",
        "# plt.show()"
      ],
      "execution_count": 35,
      "outputs": []
    }
  ]
}